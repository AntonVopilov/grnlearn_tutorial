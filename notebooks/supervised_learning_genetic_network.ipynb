{
 "cells": [
  {
   "cell_type": "markdown",
   "metadata": {},
   "source": [
    "## Supervised learning of  a simple genetic network in *E. coli*"
   ]
  },
  {
   "cell_type": "markdown",
   "metadata": {},
   "source": [
    "Content here is licensed under a CC 4.0 License. The code in this notebook is released under the MIT license. \n",
    "\n",
    "\n",
    "By Manu Flores. "
   ]
  },
  {
   "cell_type": "code",
   "execution_count": null,
   "metadata": {
    "ExecuteTime": {
     "end_time": "2019-11-20T06:14:08.368471Z",
     "start_time": "2019-11-20T06:13:45.145173Z"
    }
   },
   "outputs": [],
   "source": [
    "import grn_learn as g\n",
    "import numpy as np\n",
    "import pandas as pd\n",
    "import matplotlib.pyplot as plt\n",
    "import seaborn as sns\n",
    "import networkx as nx\n",
    "import matplotlib as mpl\n",
    "from scipy.stats import pearsonr\n",
    "\n",
    "import bebi103 #jbois' library \n",
    "import hvplot\n",
    "import hvplot.pandas\n",
    "import holoviews as hv\n",
    "from holoviews import dim, opts\n",
    "import bokeh_catplot\n",
    "import bokeh \n",
    "import bokeh.io\n",
    "from bokeh.io import output_file, save, output_notebook\n",
    "\n",
    "\n",
    "output_notebook()\n",
    "hv.extension('bokeh')\n",
    "np.random.seed(42)\n",
    "\n",
    "from IPython.core.interactiveshell import InteractiveShell\n",
    "InteractiveShell.ast_node_interactivity = \"all\"\n",
    "\n",
    "g.set_plotting_style()\n",
    "%matplotlib inline\n",
    "%config InlineBackend.figure_format = 'svg'\n",
    "\n",
    "%load_ext autoreload\n",
    "%autoreload "
   ]
  },
  {
   "cell_type": "markdown",
   "metadata": {},
   "source": [
    "### Load in data RNA-seq dataset. "
   ]
  },
  {
   "cell_type": "markdown",
   "metadata": {},
   "source": [
    "Story of the data. Citation : y-ome. "
   ]
  },
  {
   "cell_type": "code",
   "execution_count": null,
   "metadata": {
    "ExecuteTime": {
     "end_time": "2019-11-20T06:14:08.740057Z",
     "start_time": "2019-11-20T06:14:08.376313Z"
    }
   },
   "outputs": [],
   "source": [
    "df = pd.read_csv('palsson_rna_seq.csv')"
   ]
  },
  {
   "cell_type": "code",
   "execution_count": null,
   "metadata": {
    "ExecuteTime": {
     "end_time": "2019-11-20T06:14:30.908178Z",
     "start_time": "2019-11-20T06:14:30.863255Z"
    }
   },
   "outputs": [],
   "source": [
    "df.head()"
   ]
  },
  {
   "cell_type": "code",
   "execution_count": null,
   "metadata": {
    "ExecuteTime": {
     "end_time": "2019-11-20T08:34:02.658986Z",
     "start_time": "2019-11-20T08:34:02.649420Z"
    }
   },
   "outputs": [],
   "source": [
    "data_ = df.copy()"
   ]
  },
  {
   "cell_type": "code",
   "execution_count": null,
   "metadata": {
    "ExecuteTime": {
     "end_time": "2019-11-20T08:34:06.488905Z",
     "start_time": "2019-11-20T08:34:06.482360Z"
    }
   },
   "outputs": [],
   "source": [
    "annot = data_.iloc[:, :2]"
   ]
  },
  {
   "cell_type": "code",
   "execution_count": null,
   "metadata": {
    "ExecuteTime": {
     "end_time": "2019-11-20T08:34:08.108949Z",
     "start_time": "2019-11-20T08:34:08.090312Z"
    }
   },
   "outputs": [],
   "source": [
    "annot.head()"
   ]
  },
  {
   "cell_type": "code",
   "execution_count": null,
   "metadata": {
    "ExecuteTime": {
     "end_time": "2019-11-20T08:34:28.518369Z",
     "start_time": "2019-11-20T08:34:28.507454Z"
    }
   },
   "outputs": [],
   "source": [
    "data = data_.iloc[:, 2:]"
   ]
  },
  {
   "cell_type": "markdown",
   "metadata": {},
   "source": [
    "### Data preprocessing. "
   ]
  },
  {
   "cell_type": "markdown",
   "metadata": {},
   "source": [
    "Let's start our data analysis pipeline by normalizing and looking for null values ."
   ]
  },
  {
   "cell_type": "code",
   "execution_count": null,
   "metadata": {
    "ExecuteTime": {
     "end_time": "2019-11-20T06:14:16.648825Z",
     "start_time": "2019-11-20T06:14:16.643245Z"
    }
   },
   "outputs": [],
   "source": [
    "from sklearn.preprocessing import StandardScaler as scaler "
   ]
  },
  {
   "cell_type": "code",
   "execution_count": null,
   "metadata": {
    "ExecuteTime": {
     "end_time": "2019-11-20T09:13:01.631105Z",
     "start_time": "2019-11-20T09:13:01.600008Z"
    }
   },
   "outputs": [],
   "source": [
    "ss = scaler()\n",
    "norm_data = ss.fit_transform(data)"
   ]
  },
  {
   "cell_type": "markdown",
   "metadata": {},
   "source": [
    "Let's check if the data has any null entries."
   ]
  },
  {
   "cell_type": "code",
   "execution_count": null,
   "metadata": {
    "ExecuteTime": {
     "end_time": "2019-11-20T09:13:24.986040Z",
     "start_time": "2019-11-20T09:13:24.536793Z"
    }
   },
   "outputs": [],
   "source": [
    "norm_data= pd.DataFrame(norm_data, columns = data.columns)\n",
    "norm_data.describe()"
   ]
  },
  {
   "cell_type": "markdown",
   "metadata": {},
   "source": [
    "It looks like there are none. We can quickly verify this using the `pd.notnull` function from pandas."
   ]
  },
  {
   "cell_type": "code",
   "execution_count": null,
   "metadata": {
    "ExecuteTime": {
     "end_time": "2019-11-20T09:13:28.338748Z",
     "start_time": "2019-11-20T09:13:28.320936Z"
    }
   },
   "outputs": [],
   "source": [
    "np.all(pd.notnull(norm_data))"
   ]
  },
  {
   "cell_type": "markdown",
   "metadata": {},
   "source": [
    "All right, we're good to go ! "
   ]
  },
  {
   "cell_type": "markdown",
   "metadata": {},
   "source": [
    "### Load in PurR regulon datasets"
   ]
  },
  {
   "cell_type": "markdown",
   "metadata": {},
   "source": [
    "Now we can go ahead and load the PurR regulon datasets. "
   ]
  },
  {
   "cell_type": "code",
   "execution_count": null,
   "metadata": {
    "ExecuteTime": {
     "end_time": "2019-11-20T06:20:39.073130Z",
     "start_time": "2019-11-20T06:20:39.062428Z"
    }
   },
   "outputs": [],
   "source": [
    "purr_regulondb = pd.read_csv('../../data/purr_regulon_db.csv')"
   ]
  },
  {
   "cell_type": "code",
   "execution_count": null,
   "metadata": {
    "ExecuteTime": {
     "end_time": "2019-11-20T06:33:20.511312Z",
     "start_time": "2019-11-20T06:33:20.501875Z"
    }
   },
   "outputs": [],
   "source": [
    "purr_hi = pd.read_csv('../../data/purr_regulon_hitrn.csv')"
   ]
  },
  {
   "cell_type": "code",
   "execution_count": null,
   "metadata": {
    "ExecuteTime": {
     "end_time": "2019-11-20T06:33:31.668027Z",
     "start_time": "2019-11-20T06:33:31.658128Z"
    }
   },
   "outputs": [],
   "source": [
    "print('The RegulonDB has %d nodes and the hiTRN has %d nodes \\\n",
    "for the PurR regulon genetic network respectively.'%(purr_regulondb.shape[0], purr_hi.shape[0]))"
   ]
  },
  {
   "cell_type": "markdown",
   "metadata": {},
   "source": [
    "Let's extract the TGs as a `np.array` and get the genes that were discovered by the Palsson Lab. "
   ]
  },
  {
   "cell_type": "code",
   "execution_count": null,
   "metadata": {
    "ExecuteTime": {
     "end_time": "2019-11-20T06:42:58.012606Z",
     "start_time": "2019-11-20T06:42:58.005926Z"
    }
   },
   "outputs": [],
   "source": [
    "purr_rdb_tgs = np.unique(purr_regulondb.tg.values)"
   ]
  },
  {
   "cell_type": "code",
   "execution_count": null,
   "metadata": {
    "ExecuteTime": {
     "end_time": "2019-11-20T06:43:09.863770Z",
     "start_time": "2019-11-20T06:43:09.853801Z"
    }
   },
   "outputs": [],
   "source": [
    "len(purr_rdb_tgs)"
   ]
  },
  {
   "cell_type": "code",
   "execution_count": null,
   "metadata": {
    "ExecuteTime": {
     "end_time": "2019-11-20T06:42:12.434003Z",
     "start_time": "2019-11-20T06:42:12.425894Z"
    }
   },
   "outputs": [],
   "source": [
    "purr_hi_tgs = np.unique(purr_hi.gene.values)\n",
    "\n",
    "purr_hi_tgs = [gene.lower() for gene in purr_hi_tgs]"
   ]
  },
  {
   "cell_type": "code",
   "execution_count": null,
   "metadata": {
    "ExecuteTime": {
     "end_time": "2019-11-20T06:44:33.119209Z",
     "start_time": "2019-11-20T06:44:33.106680Z"
    }
   },
   "outputs": [],
   "source": [
    "new_purr_tgs = set(purr_hi_tgs) - set(purr_rdb_tgs)\n",
    "\n",
    "new_purr_tgs"
   ]
  },
  {
   "cell_type": "markdown",
   "metadata": {},
   "source": [
    "We can see that indeed the hiTRN has 5 more interactions. Let's see if we can accurately predict this interactions directly from the RNA-seq data. "
   ]
  },
  {
   "cell_type": "markdown",
   "metadata": {},
   "source": [
    "### Visualize correlation"
   ]
  },
  {
   "cell_type": "markdown",
   "metadata": {},
   "source": [
    "Before jumping to applying an ML model to our data, let's proceed to make a simple EDA. As I've said in the presentation the notion that makes this approach biologically plausible is that **genes that are coexpressed are probably corregulated**. A simple proxy for coexpression is correlation across expression conditions. \n",
    "\n",
    "Let's make a couple of plots to see that indeed the test genes that we're looking for are correlated with purr, and if this relationship looks linear. We'll use the Seaborn library in this case because it has a nice feat that allows to embed a statistical function into the plot. "
   ]
  },
  {
   "cell_type": "code",
   "execution_count": null,
   "metadata": {
    "ExecuteTime": {
     "end_time": "2019-11-20T06:53:49.032524Z",
     "start_time": "2019-11-20T06:53:49.019078Z"
    }
   },
   "outputs": [],
   "source": [
    "def corr_plot(data, gene_1, gene_2):\n",
    "    \"\"\"\n",
    "    Scatter plot to devise correlation. \n",
    "    \n",
    "    Parameters\n",
    "    -----------\n",
    "    * data(pd.DataFrame): Input dataframe that contains for which to pull out data. \n",
    "    \n",
    "    * gene_x (str): gene_name of the genes to visualize.\n",
    "    \n",
    "    Returns \n",
    "    ---------\n",
    "    * fig (plt.figure) : sns.jointplot hardcoded to be a scatterplot of the genes. \n",
    "    \n",
    "    \"\"\"\n",
    "    gene_1_data  = data[data['gene_name'] == gene_1]\n",
    "    \n",
    "    assert gene_1_data.shape[0] ==1, 'Gene 1 not in dataset'\n",
    "    \n",
    "    gene_1_vals =  gene_1_data.iloc[:, 3:].values.T\n",
    "    \n",
    "    gene_2_data  = data[data['gene_name'] == gene_2]\n",
    "    \n",
    "    assert gene_2_data.shape[0] ==1, 'Gene 2 not in dataset'\n",
    "    \n",
    "    gene_2_vals =  gene_2_data.iloc[:, 3:].values.T\n",
    "    \n",
    "    df_plot = pd.DataFrame({gene_1: gene_1_vals.flatten(),\n",
    "                            gene_2 : gene_2_vals.flatten()})\n",
    "    \n",
    "    plt.figure(figsize = (6, 4))\n",
    "    fig = sns.jointplot(data = df_plot, \n",
    "                  x = gene_1,\n",
    "                  y = gene_2,\n",
    "                  stat_func = pearsonr,\n",
    "                  alpha = 0.5,\n",
    "                  color = 'dodgerblue');\n",
    "    \n",
    "    return fig"
   ]
  },
  {
   "cell_type": "markdown",
   "metadata": {},
   "source": [
    "We can now iterate over the putative TGs and plot them against PurR. In the following plots, each dot represents the expression level (in [FPKM](https://www.rna-seqblog.com/rpkm-fpkm-and-tpm-clearly-explained/), a proxy for the number of mRNA counts for a given gene) of both genes in a specific expression condition. "
   ]
  },
  {
   "cell_type": "code",
   "execution_count": null,
   "metadata": {
    "ExecuteTime": {
     "end_time": "2019-11-20T06:53:56.224905Z",
     "start_time": "2019-11-20T06:53:49.542418Z"
    }
   },
   "outputs": [],
   "source": [
    "for new_tg in new_purr_tgs: \n",
    "    \n",
    "    corr_plot(df, 'purr', new_tg);"
   ]
  },
  {
   "cell_type": "markdown",
   "metadata": {},
   "source": [
    "We can see that some, but not all the genes are strongly correlated with PurR. This is normal because the TRN has a lot of feedback so it could be that despite that PurR regulates a given gene, there are potentially other TFs controlling those target genes. "
   ]
  },
  {
   "cell_type": "markdown",
   "metadata": {},
   "source": [
    "### Filter noise using PCA. "
   ]
  },
  {
   "cell_type": "markdown",
   "metadata": {},
   "source": [
    "Principal component analysis is a widely used technique in unsupervised learning to perform dimensionality reduction. One can also use PCA as a \"noise reduction\" technique because projecting into a (smaller) latent space and reconstructing the dataset from this space with smaller dimensionality forces the algorithm to learn important features of the data. Specifically the latent space (the principal components) will maximize the variance across the dataset. \n",
    "\n",
    "First, let's explore the dimensionality of our RNA-seq dataset. "
   ]
  },
  {
   "cell_type": "code",
   "execution_count": null,
   "metadata": {
    "ExecuteTime": {
     "end_time": "2019-11-20T07:01:50.740943Z",
     "start_time": "2019-11-20T07:01:50.687794Z"
    }
   },
   "outputs": [],
   "source": [
    "from sklearn.decomposition import PCA "
   ]
  },
  {
   "cell_type": "code",
   "execution_count": null,
   "metadata": {
    "ExecuteTime": {
     "end_time": "2019-11-20T09:13:42.988229Z",
     "start_time": "2019-11-20T09:13:42.915822Z"
    }
   },
   "outputs": [],
   "source": [
    "pca = PCA()\n",
    "pca = pca.fit(norm_data)"
   ]
  },
  {
   "cell_type": "code",
   "execution_count": null,
   "metadata": {
    "ExecuteTime": {
     "end_time": "2019-11-20T07:15:34.354601Z",
     "start_time": "2019-11-20T07:15:33.996087Z"
    }
   },
   "outputs": [],
   "source": [
    "cum_exp_var = np.cumsum(pca.explained_variance_ratio_)\n",
    "\n",
    "# look at it\n",
    "plt.figure(figsize = (6,4))\n",
    "plt.plot(cum_exp_var*100, color = 'dodgerblue') #because LA\n",
    "plt.xlabel('Number of dimensions', fontsize= 16)\n",
    "plt.ylabel('Cumulative variance percentage', fontsize = 16)\n",
    "plt.title('PCA Explained Variance');"
   ]
  },
  {
   "cell_type": "code",
   "execution_count": null,
   "metadata": {
    "ExecuteTime": {
     "end_time": "2019-11-20T07:04:25.066192Z",
     "start_time": "2019-11-20T07:04:25.057722Z"
    }
   },
   "outputs": [],
   "source": [
    "print('The first five principal components explain %.2f of the variance in the dataset.'%cum_exp_var[4])"
   ]
  },
  {
   "cell_type": "markdown",
   "metadata": {},
   "source": [
    "We can see that the dataset is of very small dimensionality. We can now project into this subspace that contains 95% of the variance and reconstruct the dataset. "
   ]
  },
  {
   "cell_type": "code",
   "execution_count": null,
   "metadata": {
    "ExecuteTime": {
     "end_time": "2019-11-20T09:13:57.315675Z",
     "start_time": "2019-11-20T09:13:57.235178Z"
    }
   },
   "outputs": [],
   "source": [
    "pca = PCA(0.95).fit(norm_data)\n",
    "latent = pca.transform(norm_data)"
   ]
  },
  {
   "cell_type": "code",
   "execution_count": null,
   "metadata": {
    "ExecuteTime": {
     "end_time": "2019-11-20T09:13:59.592476Z",
     "start_time": "2019-11-20T09:13:59.581554Z"
    }
   },
   "outputs": [],
   "source": [
    "reconstructed = pca.inverse_transform(latent)"
   ]
  },
  {
   "cell_type": "code",
   "execution_count": null,
   "metadata": {
    "ExecuteTime": {
     "end_time": "2019-11-20T09:14:01.778231Z",
     "start_time": "2019-11-20T09:14:01.769779Z"
    }
   },
   "outputs": [],
   "source": [
    "recon_df= pd.DataFrame(reconstructed, columns = data.columns)"
   ]
  },
  {
   "cell_type": "code",
   "execution_count": null,
   "metadata": {
    "ExecuteTime": {
     "end_time": "2019-11-20T09:12:17.895160Z",
     "start_time": "2019-11-20T09:12:17.884771Z"
    }
   },
   "outputs": [],
   "source": [
    "df.iloc[:, :2].shape, recon_df.shape"
   ]
  },
  {
   "cell_type": "code",
   "execution_count": null,
   "metadata": {
    "ExecuteTime": {
     "end_time": "2019-11-20T09:14:04.268805Z",
     "start_time": "2019-11-20T09:14:04.253089Z"
    }
   },
   "outputs": [],
   "source": [
    "recon_df_ = pd.concat([df.iloc[:, :2], recon_df], axis = 1)"
   ]
  },
  {
   "cell_type": "code",
   "execution_count": null,
   "metadata": {
    "ExecuteTime": {
     "end_time": "2019-11-20T09:14:06.730752Z",
     "start_time": "2019-11-20T09:14:06.672827Z"
    }
   },
   "outputs": [],
   "source": [
    "recon_df_.head()"
   ]
  },
  {
   "cell_type": "markdown",
   "metadata": {},
   "source": [
    "### Visualize correlation again. "
   ]
  },
  {
   "cell_type": "markdown",
   "metadata": {},
   "source": [
    "Let's visualize the dataset again. "
   ]
  },
  {
   "cell_type": "code",
   "execution_count": null,
   "metadata": {
    "ExecuteTime": {
     "end_time": "2019-11-20T09:14:18.611103Z",
     "start_time": "2019-11-20T09:14:09.179935Z"
    },
    "scrolled": true
   },
   "outputs": [],
   "source": [
    "for new_tg in new_purr_tgs: \n",
    "    \n",
    "    corr_plot(recon_df_, 'purr', new_tg);"
   ]
  },
  {
   "cell_type": "markdown",
   "metadata": {},
   "source": [
    "We can see that in the reconstructed space, we've constrained the data to have a bigger covariance. "
   ]
  },
  {
   "cell_type": "markdown",
   "metadata": {},
   "source": [
    "### Visualize in PCA space"
   ]
  },
  {
   "cell_type": "markdown",
   "metadata": {},
   "source": [
    "Given that we already have the projection of our dataset into a smaller dimension, we can also visualize all of the genes in the first two principal components. "
   ]
  },
  {
   "cell_type": "code",
   "execution_count": null,
   "metadata": {
    "ExecuteTime": {
     "end_time": "2019-11-20T09:14:50.285436Z",
     "start_time": "2019-11-20T09:14:50.165147Z"
    }
   },
   "outputs": [],
   "source": [
    "hv.Points((latent[: , 0], latent[: , 1])).opts(xlabel = 'principal component 1',\n",
    "                                               ylabel = 'principal component 2',\n",
    "                                               color = '#1E90FF', \n",
    "                                               size = 5, \n",
    "                                               alpha = 0.15, \n",
    "                                               padding = 0.1, \n",
    "                                               width = 400)"
   ]
  },
  {
   "cell_type": "markdown",
   "metadata": {},
   "source": [
    "We cannot really see a specific structure in the first two components. Maybe a non-linear dimensionality reduction technique such as UMAP could do a better job to get the clusters in higher dimensions. We'll come back to that in the next tutorial. "
   ]
  },
  {
   "cell_type": "markdown",
   "metadata": {},
   "source": [
    "### Annotate datasets"
   ]
  },
  {
   "cell_type": "markdown",
   "metadata": {},
   "source": [
    "Now that we have preprocessed our data we can proceed to annotate it. Specifically we want to label our data for each gene, if its inside the PurR regulon or not. \n",
    "\n",
    "First-off, let's generate our test set. We'll use a helper function that let's us filter from the dataframe. "
   ]
  },
  {
   "cell_type": "code",
   "execution_count": null,
   "metadata": {
    "ExecuteTime": {
     "end_time": "2019-11-20T09:15:13.172083Z",
     "start_time": "2019-11-20T09:15:13.163821Z"
    }
   },
   "outputs": [],
   "source": [
    "def get_gene_data(data, gene_name_column, test_gene_list):\n",
    "    \n",
    "    \"\"\"\n",
    "    Extract data from specific genes given a larger dataframe.\n",
    "    \n",
    "    Parameters\n",
    "    ------------\n",
    "    \n",
    "    * data (pd.DataFrame): large dataframe from where to filter.\n",
    "    * gene_name_column (str): column to filter from in the dataset.\n",
    "    * test_gene_list (array-like) : a list of genes you want to get. \n",
    "    \n",
    "    Returns\n",
    "    ---------\n",
    "    * gene_profiles (pd.DataFrame) : dataframe with the genes you want\n",
    "    \n",
    "    \"\"\"\n",
    "    \n",
    "    gene_profiles = pd.DataFrame()\n",
    "\n",
    "    for gene in data[gene_name_column].values:\n",
    "\n",
    "        if gene in test_gene_list: \n",
    "\n",
    "            df_ = data[(data[gene_name_column] == gene)]\n",
    "\n",
    "            gene_profiles = pd.concat([gene_profiles, df_])\n",
    "    \n",
    "    gene_profiles.drop_duplicates(inplace = True)\n",
    "    \n",
    "    return gene_profiles "
   ]
  },
  {
   "cell_type": "markdown",
   "metadata": {},
   "source": [
    "Let's make a one hot encoded vector that corresponds to being an element of the PurR regulon. "
   ]
  },
  {
   "cell_type": "code",
   "execution_count": null,
   "metadata": {
    "ExecuteTime": {
     "end_time": "2019-11-20T08:25:31.195368Z",
     "start_time": "2019-11-20T08:25:31.184203Z"
    }
   },
   "outputs": [],
   "source": [
    "one_hot = [1 if row  in purr_hi_tgs else 0 for  row in  recon_df_['gene_name'].values]"
   ]
  },
  {
   "cell_type": "code",
   "execution_count": null,
   "metadata": {
    "ExecuteTime": {
     "end_time": "2019-11-20T08:25:32.224512Z",
     "start_time": "2019-11-20T08:25:32.214555Z"
    }
   },
   "outputs": [],
   "source": [
    "recon_df_['output'] = one_hot"
   ]
  },
  {
   "cell_type": "code",
   "execution_count": null,
   "metadata": {
    "ExecuteTime": {
     "end_time": "2019-11-20T08:25:33.661618Z",
     "start_time": "2019-11-20T08:25:33.627486Z"
    }
   },
   "outputs": [],
   "source": [
    "recon_df_.head()"
   ]
  },
  {
   "cell_type": "code",
   "execution_count": null,
   "metadata": {
    "ExecuteTime": {
     "end_time": "2019-11-20T08:25:39.761741Z",
     "start_time": "2019-11-20T08:25:39.755631Z"
    }
   },
   "outputs": [],
   "source": [
    "test_purr_tgs  = list(new_purr_tgs)"
   ]
  },
  {
   "cell_type": "code",
   "execution_count": null,
   "metadata": {
    "ExecuteTime": {
     "end_time": "2019-11-20T08:26:53.653297Z",
     "start_time": "2019-11-20T08:26:53.594172Z"
    }
   },
   "outputs": [],
   "source": [
    "test = get_gene_data(recon_df_, 'gene_name', test_purr_tgs)"
   ]
  },
  {
   "cell_type": "code",
   "execution_count": null,
   "metadata": {
    "ExecuteTime": {
     "end_time": "2019-11-20T08:26:55.086582Z",
     "start_time": "2019-11-20T08:26:55.025746Z"
    }
   },
   "outputs": [],
   "source": [
    "test.head()"
   ]
  },
  {
   "cell_type": "code",
   "execution_count": null,
   "metadata": {
    "ExecuteTime": {
     "end_time": "2019-11-20T08:24:37.755154Z",
     "start_time": "2019-11-20T08:24:37.746294Z"
    }
   },
   "outputs": [],
   "source": [
    "type(x)"
   ]
  },
  {
   "cell_type": "markdown",
   "metadata": {},
   "source": [
    "Let's drop these test genes from the reconstructed dataset. "
   ]
  },
  {
   "cell_type": "code",
   "execution_count": null,
   "metadata": {
    "ExecuteTime": {
     "end_time": "2019-11-20T08:26:24.803040Z",
     "start_time": "2019-11-20T08:26:24.782619Z"
    }
   },
   "outputs": [],
   "source": [
    "recon_df_non_regulon = recon_df_.copy().drop(test_.index.to_list())"
   ]
  },
  {
   "cell_type": "markdown",
   "metadata": {},
   "source": [
    "Nice! Now we can go ahead and add some \"noise\" to our test dataset, in the sense that we need to test if our algorithm can point out negative examples. "
   ]
  },
  {
   "cell_type": "code",
   "execution_count": null,
   "metadata": {
    "ExecuteTime": {
     "end_time": "2019-11-20T08:26:29.380970Z",
     "start_time": "2019-11-20T08:26:29.372041Z"
    }
   },
   "outputs": [],
   "source": [
    "noise = recon_df_non_regulon.sample(n = 30, replace = False,\n",
    "                         axis = 0, random_state = 42)"
   ]
  },
  {
   "cell_type": "markdown",
   "metadata": {},
   "source": [
    "Let's merge both of this dataframes to get an unbiased test set. "
   ]
  },
  {
   "cell_type": "code",
   "execution_count": null,
   "metadata": {
    "ExecuteTime": {
     "end_time": "2019-11-20T08:27:03.096519Z",
     "start_time": "2019-11-20T08:27:03.089829Z"
    }
   },
   "outputs": [],
   "source": [
    "df_test_unb = pd.concat([test, noise]) ## unbiased test "
   ]
  },
  {
   "cell_type": "code",
   "execution_count": null,
   "metadata": {
    "ExecuteTime": {
     "end_time": "2019-11-20T08:27:04.373546Z",
     "start_time": "2019-11-20T08:27:04.360000Z"
    }
   },
   "outputs": [],
   "source": [
    "df_test_unb.shape"
   ]
  },
  {
   "cell_type": "code",
   "execution_count": null,
   "metadata": {
    "ExecuteTime": {
     "end_time": "2019-11-20T08:36:30.325646Z",
     "start_time": "2019-11-20T08:36:30.316020Z"
    }
   },
   "outputs": [],
   "source": [
    "df_test_unbiased = df_test_unb.copy().reset_index(drop= True)"
   ]
  },
  {
   "cell_type": "code",
   "execution_count": null,
   "metadata": {
    "ExecuteTime": {
     "end_time": "2019-11-20T08:36:33.283680Z",
     "start_time": "2019-11-20T08:36:33.222295Z"
    }
   },
   "outputs": [],
   "source": [
    "df_test_unbiased.head()"
   ]
  },
  {
   "cell_type": "code",
   "execution_count": null,
   "metadata": {
    "ExecuteTime": {
     "end_time": "2019-11-20T08:35:07.324727Z",
     "start_time": "2019-11-20T08:35:07.314160Z"
    }
   },
   "outputs": [],
   "source": [
    "df_test_unbiased.shape"
   ]
  },
  {
   "cell_type": "code",
   "execution_count": null,
   "metadata": {
    "ExecuteTime": {
     "end_time": "2019-11-20T08:35:27.633212Z",
     "start_time": "2019-11-20T08:35:27.623193Z"
    }
   },
   "outputs": [],
   "source": [
    "df_train = recon_df_non_regulon.copy()"
   ]
  },
  {
   "cell_type": "markdown",
   "metadata": {},
   "source": [
    "### Train - test split"
   ]
  },
  {
   "cell_type": "code",
   "execution_count": null,
   "metadata": {
    "ExecuteTime": {
     "end_time": "2019-11-20T08:41:30.750436Z",
     "start_time": "2019-11-20T08:41:30.665254Z"
    }
   },
   "outputs": [],
   "source": [
    "df_train.head()\n",
    "df_test_unbiased.head()"
   ]
  },
  {
   "cell_type": "code",
   "execution_count": null,
   "metadata": {
    "ExecuteTime": {
     "end_time": "2019-11-20T08:41:32.430919Z",
     "start_time": "2019-11-20T08:41:32.419935Z"
    }
   },
   "outputs": [],
   "source": [
    "df_train.shape\n",
    "df_test_unbiased.shape"
   ]
  },
  {
   "cell_type": "code",
   "execution_count": null,
   "metadata": {
    "ExecuteTime": {
     "end_time": "2019-11-20T08:40:59.711039Z",
     "start_time": "2019-11-20T08:40:59.702433Z"
    }
   },
   "outputs": [],
   "source": [
    "X_train = df_train.iloc[:, 2: -1].values\n",
    "y_train = df_train.iloc[:,  -1].values"
   ]
  },
  {
   "cell_type": "code",
   "execution_count": null,
   "metadata": {
    "ExecuteTime": {
     "end_time": "2019-11-20T08:41:10.869151Z",
     "start_time": "2019-11-20T08:41:10.855329Z"
    }
   },
   "outputs": [],
   "source": [
    "X_train[:5, :5]\n",
    "y_train[:5]"
   ]
  },
  {
   "cell_type": "code",
   "execution_count": null,
   "metadata": {
    "ExecuteTime": {
     "end_time": "2019-11-20T08:45:47.458125Z",
     "start_time": "2019-11-20T08:45:47.450121Z"
    }
   },
   "outputs": [],
   "source": [
    "X_test = df_test_unbiased.iloc[:, 2:-1].values\n",
    "\n",
    "y_test = df_test_unbiased.iloc[:, -1].values"
   ]
  },
  {
   "cell_type": "code",
   "execution_count": null,
   "metadata": {
    "ExecuteTime": {
     "end_time": "2019-11-20T08:43:49.809774Z",
     "start_time": "2019-11-20T08:43:49.791763Z"
    }
   },
   "outputs": [],
   "source": [
    "X_test[:5, :5]\n",
    "y_test[:5]"
   ]
  },
  {
   "cell_type": "code",
   "execution_count": null,
   "metadata": {},
   "outputs": [],
   "source": []
  },
  {
   "cell_type": "markdown",
   "metadata": {},
   "source": [
    "### Balance dataset using SMOTE"
   ]
  },
  {
   "cell_type": "code",
   "execution_count": null,
   "metadata": {
    "ExecuteTime": {
     "end_time": "2019-11-20T08:42:27.680229Z",
     "start_time": "2019-11-20T08:42:27.665608Z"
    }
   },
   "outputs": [],
   "source": [
    "pd.Series(y_train).value_counts()"
   ]
  },
  {
   "cell_type": "code",
   "execution_count": null,
   "metadata": {
    "ExecuteTime": {
     "end_time": "2019-11-20T08:44:01.992500Z",
     "start_time": "2019-11-20T08:44:01.979111Z"
    }
   },
   "outputs": [],
   "source": [
    "pd.Series(y_test).value_counts()"
   ]
  },
  {
   "cell_type": "code",
   "execution_count": null,
   "metadata": {
    "ExecuteTime": {
     "end_time": "2019-11-20T08:44:15.074229Z",
     "start_time": "2019-11-20T08:44:09.698919Z"
    }
   },
   "outputs": [],
   "source": [
    "from imblearn.over_sampling import SMOTE\n",
    "\n",
    "#resampling is done on training dataset only\n",
    "X_train_res, y_train_res = SMOTE(random_state = 42).fit_sample(X_train, y_train)"
   ]
  },
  {
   "cell_type": "markdown",
   "metadata": {},
   "source": [
    "### Linear SVM "
   ]
  },
  {
   "cell_type": "code",
   "execution_count": null,
   "metadata": {
    "ExecuteTime": {
     "end_time": "2019-11-20T08:44:45.424543Z",
     "start_time": "2019-11-20T08:44:45.418853Z"
    }
   },
   "outputs": [],
   "source": [
    "from sklearn.svm import LinearSVC"
   ]
  },
  {
   "cell_type": "code",
   "execution_count": null,
   "metadata": {
    "ExecuteTime": {
     "end_time": "2019-11-20T08:45:04.426386Z",
     "start_time": "2019-11-20T08:45:04.418899Z"
    }
   },
   "outputs": [],
   "source": [
    "linear_svm_clf = LinearSVC()"
   ]
  },
  {
   "cell_type": "code",
   "execution_count": null,
   "metadata": {
    "ExecuteTime": {
     "end_time": "2019-11-20T08:45:22.371774Z",
     "start_time": "2019-11-20T08:45:14.542208Z"
    }
   },
   "outputs": [],
   "source": [
    "linear_svm_clf.fit(X_train_res, y_train_res)"
   ]
  },
  {
   "cell_type": "code",
   "execution_count": null,
   "metadata": {
    "ExecuteTime": {
     "end_time": "2019-11-20T08:46:00.397179Z",
     "start_time": "2019-11-20T08:46:00.389916Z"
    }
   },
   "outputs": [],
   "source": [
    "predictions = linear_svm_clf.predict(X_test)"
   ]
  },
  {
   "cell_type": "code",
   "execution_count": null,
   "metadata": {
    "ExecuteTime": {
     "end_time": "2019-11-20T08:46:10.310474Z",
     "start_time": "2019-11-20T08:46:10.304855Z"
    }
   },
   "outputs": [],
   "source": [
    "from sklearn.metrics import accuracy_score"
   ]
  },
  {
   "cell_type": "code",
   "execution_count": null,
   "metadata": {
    "ExecuteTime": {
     "end_time": "2019-11-20T08:46:18.805725Z",
     "start_time": "2019-11-20T08:46:18.797124Z"
    }
   },
   "outputs": [],
   "source": [
    "accuracy_score(y_test, predictions)"
   ]
  },
  {
   "cell_type": "code",
   "execution_count": null,
   "metadata": {
    "ExecuteTime": {
     "end_time": "2019-11-20T08:46:45.835478Z",
     "start_time": "2019-11-20T08:46:45.828958Z"
    }
   },
   "outputs": [],
   "source": [
    "from sklearn.metrics import classification_report"
   ]
  },
  {
   "cell_type": "code",
   "execution_count": null,
   "metadata": {
    "ExecuteTime": {
     "end_time": "2019-11-20T08:47:11.638964Z",
     "start_time": "2019-11-20T08:47:11.611610Z"
    }
   },
   "outputs": [],
   "source": [
    "pd.DataFrame((print(classification_report(y_test, predictions))))"
   ]
  },
  {
   "cell_type": "code",
   "execution_count": null,
   "metadata": {
    "ExecuteTime": {
     "end_time": "2019-11-20T08:58:59.918139Z",
     "start_time": "2019-11-20T08:58:59.903648Z"
    }
   },
   "outputs": [],
   "source": [
    "predictions == y_test"
   ]
  },
  {
   "cell_type": "markdown",
   "metadata": {},
   "source": [
    "We ca"
   ]
  },
  {
   "cell_type": "markdown",
   "metadata": {},
   "source": [
    "### Random forest"
   ]
  },
  {
   "cell_type": "code",
   "execution_count": null,
   "metadata": {
    "ExecuteTime": {
     "end_time": "2019-11-20T08:49:05.932897Z",
     "start_time": "2019-11-20T08:49:05.926684Z"
    }
   },
   "outputs": [],
   "source": [
    "from sklearn.ensemble import AdaBoostClassifier"
   ]
  },
  {
   "cell_type": "code",
   "execution_count": null,
   "metadata": {
    "ExecuteTime": {
     "end_time": "2019-11-20T08:49:13.619761Z",
     "start_time": "2019-11-20T08:49:13.611708Z"
    }
   },
   "outputs": [],
   "source": [
    "ada = AdaBoostClassifier()"
   ]
  },
  {
   "cell_type": "code",
   "execution_count": null,
   "metadata": {
    "ExecuteTime": {
     "end_time": "2019-11-20T08:49:25.581567Z",
     "start_time": "2019-11-20T08:49:20.674185Z"
    }
   },
   "outputs": [],
   "source": [
    "ada.fit(X_train, y_train)"
   ]
  },
  {
   "cell_type": "code",
   "execution_count": null,
   "metadata": {
    "ExecuteTime": {
     "end_time": "2019-11-20T08:49:36.454503Z",
     "start_time": "2019-11-20T08:49:36.425062Z"
    }
   },
   "outputs": [],
   "source": [
    "ada_pred = ada.predict(X_test)"
   ]
  },
  {
   "cell_type": "code",
   "execution_count": null,
   "metadata": {
    "ExecuteTime": {
     "end_time": "2019-11-20T08:50:02.005256Z",
     "start_time": "2019-11-20T08:50:01.987911Z"
    }
   },
   "outputs": [],
   "source": [
    "print(classification_report(y_test, ada_pred))"
   ]
  },
  {
   "cell_type": "markdown",
   "metadata": {},
   "source": [
    "Probably overfit. "
   ]
  },
  {
   "cell_type": "markdown",
   "metadata": {},
   "source": [
    "### Keras neural net. "
   ]
  },
  {
   "cell_type": "code",
   "execution_count": null,
   "metadata": {
    "ExecuteTime": {
     "end_time": "2019-11-20T08:50:57.286481Z",
     "start_time": "2019-11-20T08:50:57.277736Z"
    }
   },
   "outputs": [],
   "source": [
    "from keras.models import Sequential\n",
    "from keras.layers import Dense\n",
    "from keras.metrics import categorical_accuracy\n"
   ]
  },
  {
   "cell_type": "code",
   "execution_count": null,
   "metadata": {
    "ExecuteTime": {
     "end_time": "2019-11-20T08:51:55.966767Z",
     "start_time": "2019-11-20T08:51:55.956591Z"
    }
   },
   "outputs": [],
   "source": [
    "X_test.shape[1]"
   ]
  },
  {
   "cell_type": "code",
   "execution_count": null,
   "metadata": {
    "ExecuteTime": {
     "end_time": "2019-11-20T08:53:24.510546Z",
     "start_time": "2019-11-20T08:52:00.893849Z"
    }
   },
   "outputs": [],
   "source": [
    "model = Sequential()\n",
    "model.add(Dense(units=64, activation='softmax', input_dim= X_test.shape[1]))\n",
    "model.add(Dense(units=1)) # one output\n",
    "model.compile(loss='mse', optimizer='RMSprop', metrics= ['accuracy'])\n",
    "\n",
    "history = model.fit(X_train_res, y_train_res, epochs=10, batch_size=32)\n",
    "accuracy = history.history['acc']"
   ]
  },
  {
   "cell_type": "markdown",
   "metadata": {},
   "source": [
    "### Cross-validation"
   ]
  },
  {
   "cell_type": "code",
   "execution_count": null,
   "metadata": {
    "ExecuteTime": {
     "end_time": "2019-11-20T08:59:24.913785Z",
     "start_time": "2019-11-20T08:59:24.905954Z"
    }
   },
   "outputs": [],
   "source": [
    "#from sklearn.model_selection import accuracy_score"
   ]
  },
  {
   "cell_type": "code",
   "execution_count": null,
   "metadata": {},
   "outputs": [],
   "source": [
    "from sklearn.metrics"
   ]
  },
  {
   "cell_type": "code",
   "execution_count": null,
   "metadata": {
    "ExecuteTime": {
     "end_time": "2019-11-20T09:01:22.570377Z",
     "start_time": "2019-11-20T09:01:22.557416Z"
    }
   },
   "outputs": [],
   "source": [
    "cross_val_score?"
   ]
  },
  {
   "cell_type": "code",
   "execution_count": null,
   "metadata": {
    "ExecuteTime": {
     "end_time": "2019-11-20T09:01:39.323352Z",
     "start_time": "2019-11-20T09:01:34.808474Z"
    }
   },
   "outputs": [],
   "source": [
    "cross_val_score(linear_svm_clf, X_train, y_train, \n",
    "               cv = 5)"
   ]
  },
  {
   "cell_type": "markdown",
   "metadata": {},
   "source": [
    "### Make pipeline"
   ]
  },
  {
   "cell_type": "code",
   "execution_count": null,
   "metadata": {
    "ExecuteTime": {
     "end_time": "2019-11-20T09:02:30.700036Z",
     "start_time": "2019-11-20T09:02:30.693400Z"
    }
   },
   "outputs": [],
   "source": [
    "from sklearn.pipeline import make_pipeline"
   ]
  },
  {
   "cell_type": "code",
   "execution_count": null,
   "metadata": {
    "ExecuteTime": {
     "end_time": "2019-11-20T09:02:47.797763Z",
     "start_time": "2019-11-20T09:02:47.778990Z"
    }
   },
   "outputs": [],
   "source": [
    "from sklearn.compose import ColumnTransformer, make_column_transformer"
   ]
  },
  {
   "cell_type": "code",
   "execution_count": null,
   "metadata": {
    "ExecuteTime": {
     "end_time": "2019-11-20T09:03:57.503762Z",
     "start_time": "2019-11-20T09:03:57.438220Z"
    }
   },
   "outputs": [],
   "source": [
    "df_train.head()\n",
    "df_test_unbiased.head()"
   ]
  },
  {
   "cell_type": "code",
   "execution_count": null,
   "metadata": {
    "ExecuteTime": {
     "end_time": "2019-11-20T09:04:21.085695Z",
     "start_time": "2019-11-20T09:04:21.057989Z"
    }
   },
   "outputs": [],
   "source": [
    "df_master = pd.concat([df_train, df_test_unbiased])"
   ]
  },
  {
   "cell_type": "code",
   "execution_count": null,
   "metadata": {
    "ExecuteTime": {
     "end_time": "2019-11-20T09:04:31.379463Z",
     "start_time": "2019-11-20T09:04:31.344985Z"
    }
   },
   "outputs": [],
   "source": [
    "df_master.tail()"
   ]
  },
  {
   "cell_type": "code",
   "execution_count": null,
   "metadata": {
    "ExecuteTime": {
     "end_time": "2019-11-20T09:07:21.168842Z",
     "start_time": "2019-11-20T09:07:21.157815Z"
    }
   },
   "outputs": [],
   "source": [
    "make_pipeline?"
   ]
  },
  {
   "cell_type": "code",
   "execution_count": null,
   "metadata": {
    "ExecuteTime": {
     "end_time": "2019-11-20T09:09:16.026767Z",
     "start_time": "2019-11-20T09:09:16.008889Z"
    }
   },
   "outputs": [],
   "source": [
    "pipe = make_pipeline(scaler(), LinearSVC())"
   ]
  },
  {
   "cell_type": "code",
   "execution_count": null,
   "metadata": {
    "ExecuteTime": {
     "end_time": "2019-11-20T09:09:17.956159Z",
     "start_time": "2019-11-20T09:09:17.923061Z"
    }
   },
   "outputs": [],
   "source": [
    "pipe"
   ]
  },
  {
   "cell_type": "code",
   "execution_count": null,
   "metadata": {
    "ExecuteTime": {
     "end_time": "2019-11-20T09:09:20.633096Z",
     "start_time": "2019-11-20T09:09:19.929894Z"
    }
   },
   "outputs": [],
   "source": [
    "pipe.fit(X_train, y_train)"
   ]
  },
  {
   "cell_type": "code",
   "execution_count": null,
   "metadata": {
    "ExecuteTime": {
     "end_time": "2019-11-20T09:09:22.480054Z",
     "start_time": "2019-11-20T09:09:22.472746Z"
    }
   },
   "outputs": [],
   "source": [
    "preds = pipe.predict(X_test)"
   ]
  },
  {
   "cell_type": "code",
   "execution_count": null,
   "metadata": {
    "ExecuteTime": {
     "end_time": "2019-11-20T09:09:24.265262Z",
     "start_time": "2019-11-20T09:09:24.249810Z"
    }
   },
   "outputs": [],
   "source": [
    "preds == y_test"
   ]
  },
  {
   "cell_type": "code",
   "execution_count": null,
   "metadata": {
    "ExecuteTime": {
     "end_time": "2019-11-20T09:10:01.759632Z",
     "start_time": "2019-11-20T09:10:01.754136Z"
    }
   },
   "outputs": [],
   "source": [
    "from sklearn.metrics import confusion_matrix"
   ]
  },
  {
   "cell_type": "code",
   "execution_count": null,
   "metadata": {
    "ExecuteTime": {
     "end_time": "2019-11-20T09:11:23.035550Z",
     "start_time": "2019-11-20T09:11:22.817523Z"
    }
   },
   "outputs": [],
   "source": [
    "sns.heatmap(confusion_matrix(y_test, preds) / confusion_matrix(y_test, preds).sum(axis = 0),\n",
    "                             cmap = 'viridis_r')"
   ]
  },
  {
   "cell_type": "code",
   "execution_count": null,
   "metadata": {},
   "outputs": [],
   "source": []
  }
 ],
 "metadata": {
  "kernelspec": {
   "display_name": "Python 3",
   "language": "python",
   "name": "python3"
  },
  "language_info": {
   "codemirror_mode": {
    "name": "ipython",
    "version": 3
   },
   "file_extension": ".py",
   "mimetype": "text/x-python",
   "name": "python",
   "nbconvert_exporter": "python",
   "pygments_lexer": "ipython3",
   "version": "3.7.4"
  },
  "toc": {
   "base_numbering": 1,
   "nav_menu": {},
   "number_sections": true,
   "sideBar": true,
   "skip_h1_title": false,
   "title_cell": "Table of Contents",
   "title_sidebar": "Contents",
   "toc_cell": false,
   "toc_position": {},
   "toc_section_display": true,
   "toc_window_display": false
  },
  "varInspector": {
   "cols": {
    "lenName": 16,
    "lenType": 16,
    "lenVar": 40
   },
   "kernels_config": {
    "python": {
     "delete_cmd_postfix": "",
     "delete_cmd_prefix": "del ",
     "library": "var_list.py",
     "varRefreshCmd": "print(var_dic_list())"
    },
    "r": {
     "delete_cmd_postfix": ") ",
     "delete_cmd_prefix": "rm(",
     "library": "var_list.r",
     "varRefreshCmd": "cat(var_dic_list()) "
    }
   },
   "types_to_exclude": [
    "module",
    "function",
    "builtin_function_or_method",
    "instance",
    "_Feature"
   ],
   "window_display": false
  }
 },
 "nbformat": 4,
 "nbformat_minor": 2
}
